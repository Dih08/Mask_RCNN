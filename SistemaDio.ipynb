{
  "nbformat": 4,
  "nbformat_minor": 0,
  "metadata": {
    "colab": {
      "provenance": [],
      "authorship_tag": "ABX9TyPeIQU8PUL88PmrusC+UsiD",
      "include_colab_link": true
    },
    "kernelspec": {
      "name": "python3",
      "display_name": "Python 3"
    },
    "language_info": {
      "name": "python"
    }
  },
  "cells": [
    {
      "cell_type": "markdown",
      "metadata": {
        "id": "view-in-github",
        "colab_type": "text"
      },
      "source": [
        "<a href=\"https://colab.research.google.com/github/Dih08/Mask_RCNN/blob/master/SistemaDio.ipynb\" target=\"_parent\"><img src=\"https://colab.research.google.com/assets/colab-badge.svg\" alt=\"Open In Colab\"/></a>"
      ]
    },
    {
      "cell_type": "code",
      "source": [
        "class Cliente:\n",
        "    def __init__(self, nome: str, saldo: float = 0.0):\n",
        "        self.nome = nome\n",
        "        self.saldo = saldo\n",
        "\n",
        "    def depositar(self, valor: float):\n",
        "        self.saldo += valor\n",
        "\n",
        "    def sacar(self, valor: float):\n",
        "        if valor > self.saldo:\n",
        "            print(f\"Desculpe, {self.nome}. Você não tem saldo suficiente para sacar R${valor:.2f}.\")\n",
        "        else:\n",
        "            self.saldo -= valor\n",
        "            print(f\"Você sacou R${valor:.2f}. Seu saldo atual é R${self.saldo:.2f}.\")"
      ],
      "metadata": {
        "id": "vD0uMKr5tFxt"
      },
      "execution_count": 1,
      "outputs": []
    },
    {
      "cell_type": "code",
      "execution_count": 2,
      "metadata": {
        "colab": {
          "base_uri": "https://localhost:8080/"
        },
        "id": "mk4nBehDs_hG",
        "outputId": "c7776af4-70f3-48f5-93a7-b83f36258b22"
      },
      "outputs": [
        {
          "output_type": "stream",
          "name": "stdout",
          "text": [
            "Você sacou R$20.00. Seu saldo atual é R$80.00.\n"
          ]
        }
      ],
      "source": [
        "cliente = Cliente(\"João\")\n",
        "cliente.depositar(100)\n",
        "cliente.sacar(20)\n"
      ]
    },
    {
      "cell_type": "code",
      "source": [
        "cliente = Cliente(\"João\")\n",
        "cliente.depositar(100)\n",
        "cliente.sacar(120)\n"
      ],
      "metadata": {
        "colab": {
          "base_uri": "https://localhost:8080/"
        },
        "id": "DS71BFoctLcc",
        "outputId": "ef0ba635-3bfe-481d-bf2b-1ff8ab3ad4e4"
      },
      "execution_count": 3,
      "outputs": [
        {
          "output_type": "stream",
          "name": "stdout",
          "text": [
            "Desculpe, João. Você não tem saldo suficiente para sacar R$120.00.\n"
          ]
        }
      ]
    }
  ]
}